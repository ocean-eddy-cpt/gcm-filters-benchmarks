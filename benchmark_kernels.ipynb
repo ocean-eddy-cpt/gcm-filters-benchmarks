{
 "cells": [
  {
   "cell_type": "markdown",
   "id": "4c9a23e3-7965-4072-bdde-d3b575fdd54a",
   "metadata": {},
   "source": [
    "# GCM Filters Kernel Benchmarking"
   ]
  },
  {
   "cell_type": "markdown",
   "id": "5160201e-f86d-48f9-8fd1-4a6c8c30d262",
   "metadata": {},
   "source": [
    "## Baseline: `scipy.ndimage.uniform_filter`\n",
    "\n",
    "This is considered a \"good\" implementation."
   ]
  },
  {
   "cell_type": "code",
   "execution_count": 1,
   "id": "f31c7849-18a0-481d-a793-0a4eef8a052a",
   "metadata": {},
   "outputs": [],
   "source": [
    "from scipy.ndimage import uniform_filter\n",
    "import numpy as np\n",
    "import pandas as pd\n",
    "\n",
    "%load_ext ptime"
   ]
  },
  {
   "cell_type": "code",
   "execution_count": 2,
   "id": "b7efec79-0557-4b16-8c83-38091992e448",
   "metadata": {},
   "outputs": [],
   "source": [
    "shape = (1024, 1024)\n",
    "data = np.random.rand(*shape)\n",
    "data_u = np.random.rand(*shape)\n",
    "data_v = np.random.rand(*shape)"
   ]
  },
  {
   "cell_type": "code",
   "execution_count": 3,
   "id": "e1265c33-30b5-4e67-a59a-a668774550f2",
   "metadata": {},
   "outputs": [
    {
     "name": "stdout",
     "output_type": "stream",
     "text": [
      "11.9 ms ± 545 µs per loop (mean ± std. dev. of 7 runs, 10 loops each)\n"
     ]
    }
   ],
   "source": [
    "uf_call = %timeit -o -n10 uniform_filter(data)"
   ]
  },
  {
   "cell_type": "code",
   "execution_count": 4,
   "id": "550336ac-52f2-441e-8c27-5a7787e9753b",
   "metadata": {},
   "outputs": [
    {
     "name": "stdout",
     "output_type": "stream",
     "text": [
      "10.7 ms ± 126 µs per loop (mean ± std. dev. of 7 runs, 10 loops each)\n"
     ]
    }
   ],
   "source": [
    "output = np.zeros_like(data)\n",
    "uf_call_w_output = %timeit -o -n10 uniform_filter(data, output=output)"
   ]
  },
  {
   "cell_type": "code",
   "execution_count": 5,
   "id": "b151394c-4de9-4a71-8511-00c628372435",
   "metadata": {},
   "outputs": [
    {
     "name": "stdout",
     "output_type": "stream",
     "text": [
      "Total serial time:   0.08 s\n",
      "Total parallel time: 0.02 s\n",
      "For a 4.05X speedup across 6 threads\n"
     ]
    }
   ],
   "source": [
    "uf_ptime = %ptime -o -n6 uniform_filter(data)"
   ]
  },
  {
   "cell_type": "code",
   "execution_count": 6,
   "id": "6b2ddee9-6204-4c6f-a406-d85ab4fb1e7c",
   "metadata": {},
   "outputs": [
    {
     "name": "stdout",
     "output_type": "stream",
     "text": [
      "Total serial time:   0.07 s\n",
      "Total parallel time: 0.01 s\n",
      "For a 5.92X speedup across 6 threads\n"
     ]
    }
   ],
   "source": [
    "uf_ptime_w_output = %ptime -o -n6 uniform_filter(data, output=output)"
   ]
  },
  {
   "cell_type": "markdown",
   "id": "c8ac1032-d1ac-4256-a1c2-c4db52639265",
   "metadata": {},
   "source": [
    "## Time GCM-Filters Functions in the same way\n",
    "- How fast are our filters in single-threaded mode compared to the baseline?\n",
    "- How do the scale in comparison?"
   ]
  },
  {
   "cell_type": "code",
   "execution_count": 7,
   "id": "cfe7eafb-ccbe-4374-a694-c4f93b39098c",
   "metadata": {},
   "outputs": [],
   "source": [
    "import gcm_filters"
   ]
  },
  {
   "cell_type": "code",
   "execution_count": 8,
   "id": "a6d34cc0-8800-498d-9d1c-210599631183",
   "metadata": {},
   "outputs": [
    {
     "name": "stdout",
     "output_type": "stream",
     "text": [
      "12.1 ms ± 595 µs per loop (mean ± std. dev. of 7 runs, 10 loops each)\n"
     ]
    }
   ],
   "source": [
    "regular_laplacian = gcm_filters.kernels.RegularLaplacian()\n",
    "\n",
    "%timeit -n10 regular_laplacian(data)"
   ]
  },
  {
   "cell_type": "code",
   "execution_count": 9,
   "id": "7933953e-2db8-42bd-a193-62e4f6fd6529",
   "metadata": {},
   "outputs": [
    {
     "name": "stdout",
     "output_type": "stream",
     "text": [
      "Total serial time:   0.08 s\n",
      "Total parallel time: 0.05 s\n",
      "For a 1.68X speedup across 6 threads\n"
     ]
    }
   ],
   "source": [
    "%ptime -n6 regular_laplacian(data)"
   ]
  },
  {
   "cell_type": "code",
   "execution_count": 10,
   "id": "79377d76-d652-47c7-8ac6-84da8154fabc",
   "metadata": {},
   "outputs": [],
   "source": [
    "# convenience function to get a filter function\n",
    "\n",
    "def get_filter_function(grid_type, grid_vars):\n",
    "\n",
    "    filter = gcm_filters.Filter(\n",
    "        filter_scale=4,\n",
    "        dx_min=1,\n",
    "        filter_shape=gcm_filters.FilterShape.TAPER,\n",
    "        grid_type=grid_type,\n",
    "        grid_vars=grid_vars,\n",
    "    )\n",
    "    \n",
    "    return gcm_filters.filter._create_filter_func(\n",
    "        filter.filter_spec,\n",
    "        gcm_filters.kernels.ALL_KERNELS[grid_type]\n",
    "    ), filter.filter_spec.n_steps_total\n",
    "\n",
    "filter_function, nsteps_total = get_filter_function(gcm_filters.kernels.GridType.REGULAR, {})"
   ]
  },
  {
   "cell_type": "code",
   "execution_count": 11,
   "id": "60e06888-d6fb-4e14-8c38-e6fa01b8cd12",
   "metadata": {},
   "outputs": [
    {
     "name": "stdout",
     "output_type": "stream",
     "text": [
      "243 ms ± 3.34 ms per loop (mean ± std. dev. of 7 runs, 5 loops each)\n"
     ]
    }
   ],
   "source": [
    "%timeit -n5 filter_function(data)"
   ]
  },
  {
   "cell_type": "code",
   "execution_count": 12,
   "id": "abfe7fbd-b7fe-49ea-aa5d-430acdcb7b0f",
   "metadata": {},
   "outputs": [
    {
     "name": "stdout",
     "output_type": "stream",
     "text": [
      "Total serial time:   1.29 s\n",
      "Total parallel time: 1.04 s\n",
      "For a 1.23X speedup across 6 threads\n"
     ]
    }
   ],
   "source": [
    "%ptime -n6 filter_function(data)"
   ]
  },
  {
   "cell_type": "code",
   "execution_count": 13,
   "id": "16cf03e7-6fae-4554-b729-217aa66e6979",
   "metadata": {},
   "outputs": [
    {
     "data": {
      "text/plain": [
       "15.428571428571429"
      ]
     },
     "execution_count": 13,
     "metadata": {},
     "output_type": "execute_result"
    }
   ],
   "source": [
    "216 / nsteps_total"
   ]
  },
  {
   "cell_type": "markdown",
   "id": "269b1252-b55b-487f-8b27-7db380585e60",
   "metadata": {},
   "source": [
    "We just saw that the speed of the filter function is very nearly equal to the speed of the kernel (14 ms) times the number of steps in the filter.\n",
    "The scaling is also similar. So from here on we will just focus on the kernels themselves, assuming whatever improvements we make to the filters will carry over to the kernels."
   ]
  },
  {
   "cell_type": "markdown",
   "id": "f3b86fc5-78f2-42a5-b391-2b4f3ca7b499",
   "metadata": {},
   "source": [
    "## Test All Kernels"
   ]
  },
  {
   "cell_type": "code",
   "execution_count": 14,
   "id": "44967324-ad99-4e0f-89ee-edae82fcc935",
   "metadata": {},
   "outputs": [
    {
     "name": "stdout",
     "output_type": "stream",
     "text": [
      "GridType.REGULAR\n",
      " 0 extra args\n",
      "247 ns ± 76.2 ns per loop (mean ± std. dev. of 7 runs, 10 loops each)\n",
      "13.9 ms ± 281 µs per loop (mean ± std. dev. of 7 runs, 10 loops each)\n",
      "Total serial time:   0.10 s\n",
      "Total parallel time: 0.06 s\n",
      "For a 1.58X speedup across 6 threads\n",
      "GridType.REGULAR_WITH_LAND\n",
      " 1 extra args\n",
      "10.8 ms ± 71.3 µs per loop (mean ± std. dev. of 7 runs, 10 loops each)\n",
      "24.1 ms ± 366 µs per loop (mean ± std. dev. of 7 runs, 10 loops each)\n",
      "Total serial time:   0.15 s\n",
      "Total parallel time: 0.11 s\n",
      "For a 1.33X speedup across 6 threads\n",
      "GridType.IRREGULAR_WITH_LAND\n",
      " 8 extra args\n",
      "5.5 ms ± 511 µs per loop (mean ± std. dev. of 7 runs, 10 loops each)\n",
      "28.2 ms ± 2.68 ms per loop (mean ± std. dev. of 7 runs, 10 loops each)\n",
      "Total serial time:   0.19 s\n",
      "Total parallel time: 0.14 s\n",
      "For a 1.40X speedup across 6 threads\n",
      "GridType.TRIPOLAR_REGULAR_WITH_LAND\n",
      " 1 extra args\n",
      "6.69 ms ± 437 µs per loop (mean ± std. dev. of 7 runs, 10 loops each)\n",
      "19.7 ms ± 132 µs per loop (mean ± std. dev. of 7 runs, 10 loops each)\n",
      "Total serial time:   0.13 s\n",
      "Total parallel time: 0.11 s\n",
      "For a 1.16X speedup across 6 threads\n",
      "GridType.TRIPOLAR_POP_WITH_LAND\n",
      " 6 extra args\n",
      "13.6 ms ± 96.8 µs per loop (mean ± std. dev. of 7 runs, 10 loops each)\n",
      "29.5 ms ± 419 µs per loop (mean ± std. dev. of 7 runs, 10 loops each)\n",
      "Total serial time:   0.18 s\n",
      "Total parallel time: 0.13 s\n",
      "For a 1.43X speedup across 6 threads\n",
      "GridType.VECTOR_C_GRID\n",
      " 14 extra args\n",
      "25.4 ms ± 2.19 ms per loop (mean ± std. dev. of 7 runs, 10 loops each)\n",
      "85 ms ± 7.64 ms per loop (mean ± std. dev. of 7 runs, 10 loops each)\n",
      "Total serial time:   0.61 s\n",
      "Total parallel time: 0.44 s\n",
      "For a 1.38X speedup across 6 threads\n"
     ]
    }
   ],
   "source": [
    "results = {}\n",
    "\n",
    "import warnings\n",
    "warnings.simplefilter(\"ignore\")\n",
    "\n",
    "for name, kernel in gcm_filters.kernels.ALL_KERNELS.items():\n",
    "    print(name)\n",
    "    results[name.name] = {}\n",
    "    extra_inputs = {arg: np.zeros_like(data) for arg in kernel.required_grid_args()}\n",
    "    print(f' {len(extra_inputs)} extra args')\n",
    "    results[name.name]['init'] = %timeit -o -n10 kernel_func = kernel(**extra_inputs)\n",
    "    kernel_func = kernel(**extra_inputs)\n",
    "    if 'VECTOR' in name.name:\n",
    "        results[name.name]['call'] = %timeit -o -n10 kernel_func(data_u, data_v)\n",
    "        results[name.name]['call_ptime'] = %ptime -o -n6 kernel_func(data_u, data_v)\n",
    "    else:\n",
    "        results[name.name]['call'] = %timeit -o -n10 kernel_func(data)\n",
    "        results[name.name]['call_ptime'] = %ptime -o -n6 kernel_func(data)\n",
    "\n",
    "    "
   ]
  },
  {
   "cell_type": "code",
   "execution_count": 15,
   "id": "8256f912-eaf6-4029-9baa-03e4fcaab19b",
   "metadata": {},
   "outputs": [
    {
     "data": {
      "text/html": [
       "<div>\n",
       "<style scoped>\n",
       "    .dataframe tbody tr th:only-of-type {\n",
       "        vertical-align: middle;\n",
       "    }\n",
       "\n",
       "    .dataframe tbody tr th {\n",
       "        vertical-align: top;\n",
       "    }\n",
       "\n",
       "    .dataframe thead th {\n",
       "        text-align: right;\n",
       "    }\n",
       "</style>\n",
       "<table border=\"1\" class=\"dataframe\">\n",
       "  <thead>\n",
       "    <tr style=\"text-align: right;\">\n",
       "      <th></th>\n",
       "      <th>init_avg</th>\n",
       "      <th>init_std</th>\n",
       "      <th>call_avg</th>\n",
       "      <th>call_std</th>\n",
       "      <th>parallel_speedup</th>\n",
       "    </tr>\n",
       "  </thead>\n",
       "  <tbody>\n",
       "    <tr>\n",
       "      <th>REGULAR</th>\n",
       "      <td>2.468571e-07</td>\n",
       "      <td>7.623177e-08</td>\n",
       "      <td>0.013928</td>\n",
       "      <td>0.000281</td>\n",
       "      <td>1.580123</td>\n",
       "    </tr>\n",
       "    <tr>\n",
       "      <th>REGULAR_WITH_LAND</th>\n",
       "      <td>1.076826e-02</td>\n",
       "      <td>7.134474e-05</td>\n",
       "      <td>0.024120</td>\n",
       "      <td>0.000366</td>\n",
       "      <td>1.329384</td>\n",
       "    </tr>\n",
       "    <tr>\n",
       "      <th>IRREGULAR_WITH_LAND</th>\n",
       "      <td>5.503437e-03</td>\n",
       "      <td>5.108730e-04</td>\n",
       "      <td>0.028195</td>\n",
       "      <td>0.002679</td>\n",
       "      <td>1.397791</td>\n",
       "    </tr>\n",
       "    <tr>\n",
       "      <th>TRIPOLAR_REGULAR_WITH_LAND</th>\n",
       "      <td>6.685203e-03</td>\n",
       "      <td>4.371660e-04</td>\n",
       "      <td>0.019675</td>\n",
       "      <td>0.000132</td>\n",
       "      <td>1.158377</td>\n",
       "    </tr>\n",
       "    <tr>\n",
       "      <th>TRIPOLAR_POP_WITH_LAND</th>\n",
       "      <td>1.363606e-02</td>\n",
       "      <td>9.677481e-05</td>\n",
       "      <td>0.029463</td>\n",
       "      <td>0.000419</td>\n",
       "      <td>1.428361</td>\n",
       "    </tr>\n",
       "    <tr>\n",
       "      <th>VECTOR_C_GRID</th>\n",
       "      <td>2.537815e-02</td>\n",
       "      <td>2.190825e-03</td>\n",
       "      <td>0.084961</td>\n",
       "      <td>0.007639</td>\n",
       "      <td>1.380396</td>\n",
       "    </tr>\n",
       "    <tr>\n",
       "      <th>ndimage.uniform_filter</th>\n",
       "      <td>NaN</td>\n",
       "      <td>NaN</td>\n",
       "      <td>0.011904</td>\n",
       "      <td>0.000545</td>\n",
       "      <td>4.046563</td>\n",
       "    </tr>\n",
       "    <tr>\n",
       "      <th>ndimage.uniform_filter (output)</th>\n",
       "      <td>NaN</td>\n",
       "      <td>NaN</td>\n",
       "      <td>0.010684</td>\n",
       "      <td>0.000126</td>\n",
       "      <td>5.920890</td>\n",
       "    </tr>\n",
       "  </tbody>\n",
       "</table>\n",
       "</div>"
      ],
      "text/plain": [
       "                                     init_avg      init_std  call_avg  \\\n",
       "REGULAR                          2.468571e-07  7.623177e-08  0.013928   \n",
       "REGULAR_WITH_LAND                1.076826e-02  7.134474e-05  0.024120   \n",
       "IRREGULAR_WITH_LAND              5.503437e-03  5.108730e-04  0.028195   \n",
       "TRIPOLAR_REGULAR_WITH_LAND       6.685203e-03  4.371660e-04  0.019675   \n",
       "TRIPOLAR_POP_WITH_LAND           1.363606e-02  9.677481e-05  0.029463   \n",
       "VECTOR_C_GRID                    2.537815e-02  2.190825e-03  0.084961   \n",
       "ndimage.uniform_filter                    NaN           NaN  0.011904   \n",
       "ndimage.uniform_filter (output)           NaN           NaN  0.010684   \n",
       "\n",
       "                                 call_std  parallel_speedup  \n",
       "REGULAR                          0.000281          1.580123  \n",
       "REGULAR_WITH_LAND                0.000366          1.329384  \n",
       "IRREGULAR_WITH_LAND              0.002679          1.397791  \n",
       "TRIPOLAR_REGULAR_WITH_LAND       0.000132          1.158377  \n",
       "TRIPOLAR_POP_WITH_LAND           0.000419          1.428361  \n",
       "VECTOR_C_GRID                    0.007639          1.380396  \n",
       "ndimage.uniform_filter           0.000545          4.046563  \n",
       "ndimage.uniform_filter (output)  0.000126          5.920890  "
      ]
     },
     "execution_count": 15,
     "metadata": {},
     "output_type": "execute_result"
    }
   ],
   "source": [
    "results_for_pandas = {\n",
    "    name: {\n",
    "        'init_avg': res['init'].average,\n",
    "        'init_std': res['init'].stdev,\n",
    "        'call_avg': res['call'].average,\n",
    "        'call_std': res['call'].stdev,\n",
    "        'parallel_speedup': res['call_ptime'].speedup\n",
    "    }\n",
    "    for name, res in results.items()\n",
    "}\n",
    "\n",
    "results_for_pandas['ndimage.uniform_filter'] = {\n",
    "    'call_avg': uf_call.average,\n",
    "    'call_std': uf_call.stdev,\n",
    "    'parallel_speedup': uf_ptime.speedup\n",
    "}\n",
    "\n",
    "results_for_pandas['ndimage.uniform_filter (output)'] = {\n",
    "    'call_avg': uf_call_w_output.average,\n",
    "    'call_std': uf_call_w_output.stdev,\n",
    "    'parallel_speedup': uf_ptime_w_output.speedup\n",
    "}\n",
    "\n",
    "df = pd.DataFrame(results_for_pandas).transpose()\n",
    "df"
   ]
  },
  {
   "cell_type": "code",
   "execution_count": 16,
   "id": "a5565cc2-54de-4c32-98d8-f045d84b5523",
   "metadata": {},
   "outputs": [
    {
     "data": {
      "text/plain": [
       "<AxesSubplot:>"
      ]
     },
     "execution_count": 16,
     "metadata": {},
     "output_type": "execute_result"
    },
    {
     "data": {
      "image/png": "[encoded data removed]",
      "text/plain": [
       "<Figure size 432x288 with 1 Axes>"
      ]
     },
     "metadata": {
      "needs_background": "light"
     },
     "output_type": "display_data"
    }
   ],
   "source": [
    "df.plot(kind='bar', y='call_avg', yerr='call_std')"
   ]
  },
  {
   "cell_type": "code",
   "execution_count": 17,
   "id": "c4b50c0d-24dc-470e-930a-a66bceffa976",
   "metadata": {},
   "outputs": [
    {
     "data": {
      "text/plain": [
       "<AxesSubplot:>"
      ]
     },
     "execution_count": 17,
     "metadata": {},
     "output_type": "execute_result"
    },
    {
     "data": {
      "image/png": "[encoded data removed]",
      "text/plain": [
       "<Figure size 432x288 with 1 Axes>"
      ]
     },
     "metadata": {
      "needs_background": "light"
     },
     "output_type": "display_data"
    }
   ],
   "source": [
    "df.plot(kind='bar', y='parallel_speedup')"
   ]
  },
  {
   "cell_type": "code",
   "execution_count": null,
   "id": "b4b77a9f-2dca-4dfa-ba53-802d9f8763d8",
   "metadata": {},
   "outputs": [],
   "source": []
  }
 ],
 "metadata": {
  "kernelspec": {
   "display_name": "Python 3",
   "language": "python",
   "name": "python3"
  },
  "language_info": {
   "codemirror_mode": {
    "name": "ipython",
    "version": 3
   },
   "file_extension": ".py",
   "mimetype": "text/x-python",
   "name": "python",
   "nbconvert_exporter": "python",
   "pygments_lexer": "ipython3",
   "version": "3.8.6"
  }
 },
 "nbformat": 4,
 "nbformat_minor": 5
}
